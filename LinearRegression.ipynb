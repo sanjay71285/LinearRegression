{
 "cells": [
  {
   "cell_type": "code",
   "execution_count": 1,
   "id": "47997b92",
   "metadata": {},
   "outputs": [],
   "source": [
    "import pandas as pd\n",
    "import numpy as np\n",
    "import matplotlib.pyplot as plt\n",
    "import seaborn as sns"
   ]
  },
  {
   "cell_type": "code",
   "execution_count": 25,
   "id": "3373886d",
   "metadata": {},
   "outputs": [],
   "source": [
    "data = pd.read_csv(\"advertising.csv\")   #,index_col=0"
   ]
  },
  {
   "cell_type": "code",
   "execution_count": 26,
   "id": "df1de236",
   "metadata": {},
   "outputs": [
    {
     "data": {
      "text/html": [
       "<div>\n",
       "<style scoped>\n",
       "    .dataframe tbody tr th:only-of-type {\n",
       "        vertical-align: middle;\n",
       "    }\n",
       "\n",
       "    .dataframe tbody tr th {\n",
       "        vertical-align: top;\n",
       "    }\n",
       "\n",
       "    .dataframe thead th {\n",
       "        text-align: right;\n",
       "    }\n",
       "</style>\n",
       "<table border=\"1\" class=\"dataframe\">\n",
       "  <thead>\n",
       "    <tr style=\"text-align: right;\">\n",
       "      <th></th>\n",
       "      <th>TV</th>\n",
       "      <th>Radio</th>\n",
       "      <th>Newspaper</th>\n",
       "      <th>Sales</th>\n",
       "    </tr>\n",
       "  </thead>\n",
       "  <tbody>\n",
       "    <tr>\n",
       "      <th>0</th>\n",
       "      <td>230.1</td>\n",
       "      <td>37.8</td>\n",
       "      <td>69.2</td>\n",
       "      <td>22.1</td>\n",
       "    </tr>\n",
       "    <tr>\n",
       "      <th>1</th>\n",
       "      <td>44.5</td>\n",
       "      <td>39.3</td>\n",
       "      <td>45.1</td>\n",
       "      <td>10.4</td>\n",
       "    </tr>\n",
       "    <tr>\n",
       "      <th>2</th>\n",
       "      <td>17.2</td>\n",
       "      <td>45.9</td>\n",
       "      <td>69.3</td>\n",
       "      <td>12.0</td>\n",
       "    </tr>\n",
       "    <tr>\n",
       "      <th>3</th>\n",
       "      <td>151.5</td>\n",
       "      <td>41.3</td>\n",
       "      <td>58.5</td>\n",
       "      <td>16.5</td>\n",
       "    </tr>\n",
       "    <tr>\n",
       "      <th>4</th>\n",
       "      <td>180.8</td>\n",
       "      <td>10.8</td>\n",
       "      <td>58.4</td>\n",
       "      <td>17.9</td>\n",
       "    </tr>\n",
       "  </tbody>\n",
       "</table>\n",
       "</div>"
      ],
      "text/plain": [
       "      TV  Radio  Newspaper  Sales\n",
       "0  230.1   37.8       69.2   22.1\n",
       "1   44.5   39.3       45.1   10.4\n",
       "2   17.2   45.9       69.3   12.0\n",
       "3  151.5   41.3       58.5   16.5\n",
       "4  180.8   10.8       58.4   17.9"
      ]
     },
     "execution_count": 26,
     "metadata": {},
     "output_type": "execute_result"
    }
   ],
   "source": [
    "data.head()               # Default head() value is 5 "
   ]
  },
  {
   "cell_type": "code",
   "execution_count": 14,
   "id": "791b65a4",
   "metadata": {},
   "outputs": [],
   "source": [
    "# Liner Regression"
   ]
  },
  {
   "cell_type": "code",
   "execution_count": 17,
   "id": "2771742d",
   "metadata": {},
   "outputs": [],
   "source": [
    "# 1 assumption checking:\n",
    "    # 1 linearity\n",
    "    # 2. no multi-colinearity\n",
    "    # 3. Auto correlation\n",
    "    # 4. No outlier\n",
    "    # 5. No null values\n",
    "    # char to numbers -NA\n"
   ]
  },
  {
   "cell_type": "code",
   "execution_count": 18,
   "id": "19dd2546",
   "metadata": {},
   "outputs": [],
   "source": [
    "# 1 linearity : linear relation between independent variable and dependent variable. \n",
    "# This relation good for linear regression and we check this condition using scatter chart"
   ]
  },
  {
   "cell_type": "code",
   "execution_count": 31,
   "id": "d1aef86e",
   "metadata": {},
   "outputs": [],
   "source": [
    "column_a = data[\"TV\"]\n",
    "column_b = data[\"Radio\"]\n",
    "column_c = data[\"Newspaper\"]\n",
    "column_d = data[\"Sales\"]"
   ]
  },
  {
   "cell_type": "code",
   "execution_count": 32,
   "id": "154041c5",
   "metadata": {},
   "outputs": [
    {
     "data": {
      "text/plain": [
       "Text(0, 0.5, 'Sales')"
      ]
     },
     "execution_count": 32,
     "metadata": {},
     "output_type": "execute_result"
    },
    {
     "data": {
      "image/png": "[encoded data removed]",
      "text/plain": [
       "<Figure size 640x480 with 1 Axes>"
      ]
     },
     "metadata": {},
     "output_type": "display_data"
    }
   ],
   "source": [
    "plt.scatter(column_a,column_d)\n",
    "plt.xlabel(\"TV\")\n",
    "plt.ylabel(\"Sales\")"
   ]
  },
  {
   "cell_type": "code",
   "execution_count": null,
   "id": "a5214ad0",
   "metadata": {
    "collapsed": true
   },
   "outputs": [],
   "source": []
  },
  {
   "cell_type": "code",
   "execution_count": 33,
   "id": "fc9afc9e",
   "metadata": {},
   "outputs": [
    {
     "data": {
      "text/plain": [
       "Text(0, 0.5, 'Sales')"
      ]
     },
     "execution_count": 33,
     "metadata": {},
     "output_type": "execute_result"
    },
    {
     "data": {
      "image/png": "[encoded data removed]",
      "text/plain": [
       "<Figure size 640x480 with 1 Axes>"
      ]
     },
     "metadata": {},
     "output_type": "display_data"
    }
   ],
   "source": [
    "plt.scatter(column_b,column_d)\n",
    "plt.xlabel(\"Radio\")\n",
    "plt.ylabel(\"Sales\")"
   ]
  },
  {
   "cell_type": "code",
   "execution_count": 34,
   "id": "2bbdfa82",
   "metadata": {},
   "outputs": [
    {
     "data": {
      "text/plain": [
       "Text(0, 0.5, 'Sales')"
      ]
     },
     "execution_count": 34,
     "metadata": {},
     "output_type": "execute_result"
    },
    {
     "data": {
      "image/png": "[encoded data removed]",
      "text/plain": [
       "<Figure size 640x480 with 1 Axes>"
      ]
     },
     "metadata": {},
     "output_type": "display_data"
    }
   ],
   "source": [
    "plt.scatter(column_c,column_d)\n",
    "plt.xlabel(\"Newspaper\")\n",
    "plt.ylabel(\"Sales\")"
   ]
  },
  {
   "cell_type": "code",
   "execution_count": 46,
   "id": "f9c6d40c",
   "metadata": {},
   "outputs": [
    {
     "data": {
      "text/plain": [
       "<Axes: >"
      ]
     },
     "execution_count": 46,
     "metadata": {},
     "output_type": "execute_result"
    },
    {
     "data": {
      "image/png": "[encoded data removed]",
      "text/plain": [
       "<Figure size 640x480 with 2 Axes>"
      ]
     },
     "metadata": {},
     "output_type": "display_data"
    }
   ],
   "source": [
    "sns.heatmap(data.corr(),annot=True)     # co-rellation thresold is  -0.1 to +0.1 anything between this is no correalated, \n",
    "#correaltion range is -1 to +1 , "
   ]
  },
  {
   "cell_type": "code",
   "execution_count": 39,
   "id": "fbc552dc",
   "metadata": {},
   "outputs": [
    {
     "data": {
      "text/plain": [
       "{'whiskers': [<matplotlib.lines.Line2D at 0x1dc6dd30ed0>,\n",
       "  <matplotlib.lines.Line2D at 0x1dc6dd31b10>,\n",
       "  <matplotlib.lines.Line2D at 0x1dc6dd35d90>,\n",
       "  <matplotlib.lines.Line2D at 0x1dc6dd36850>,\n",
       "  <matplotlib.lines.Line2D at 0x1dc6dd4a750>,\n",
       "  <matplotlib.lines.Line2D at 0x1dc6dd4b250>,\n",
       "  <matplotlib.lines.Line2D at 0x1dc6dd56dd0>,\n",
       "  <matplotlib.lines.Line2D at 0x1dc6dd57d10>],\n",
       " 'caps': [<matplotlib.lines.Line2D at 0x1dc6dd32750>,\n",
       "  <matplotlib.lines.Line2D at 0x1dc6dd33210>,\n",
       "  <matplotlib.lines.Line2D at 0x1dc6dd37390>,\n",
       "  <matplotlib.lines.Line2D at 0x1dc6dd37e50>,\n",
       "  <matplotlib.lines.Line2D at 0x1dc6dd4bc90>,\n",
       "  <matplotlib.lines.Line2D at 0x1dc6dd54850>,\n",
       "  <matplotlib.lines.Line2D at 0x1dc6dd60890>,\n",
       "  <matplotlib.lines.Line2D at 0x1dc6dd613d0>],\n",
       " 'boxes': [<matplotlib.lines.Line2D at 0x1dc6dd30350>,\n",
       "  <matplotlib.lines.Line2D at 0x1dc6dd353d0>,\n",
       "  <matplotlib.lines.Line2D at 0x1dc6dd49cd0>,\n",
       "  <matplotlib.lines.Line2D at 0x1dc6dd568d0>],\n",
       " 'medians': [<matplotlib.lines.Line2D at 0x1dc6dd33d90>,\n",
       "  <matplotlib.lines.Line2D at 0x1dc6dd48890>,\n",
       "  <matplotlib.lines.Line2D at 0x1dc6dd55390>,\n",
       "  <matplotlib.lines.Line2D at 0x1dc6dd61dd0>],\n",
       " 'fliers': [<matplotlib.lines.Line2D at 0x1dc6d56c810>,\n",
       "  <matplotlib.lines.Line2D at 0x1dc6dd32490>,\n",
       "  <matplotlib.lines.Line2D at 0x1dc6dd4b1d0>,\n",
       "  <matplotlib.lines.Line2D at 0x1dc6dd628d0>],\n",
       " 'means': []}"
      ]
     },
     "execution_count": 39,
     "metadata": {},
     "output_type": "execute_result"
    },
    {
     "data": {
      "image/png": "[encoded data removed]",
      "text/plain": [
       "<Figure size 640x480 with 1 Axes>"
      ]
     },
     "metadata": {},
     "output_type": "display_data"
    }
   ],
   "source": [
    "\n",
    "plt.boxplot(data)\n"
   ]
  },
  {
   "cell_type": "code",
   "execution_count": 41,
   "id": "74813f59",
   "metadata": {},
   "outputs": [
    {
     "ename": "NameError",
     "evalue": "name 'column' is not defined",
     "output_type": "error",
     "traceback": [
      "\u001b[1;31m---------------------------------------------------------------------------\u001b[0m",
      "\u001b[1;31mNameError\u001b[0m                                 Traceback (most recent call last)",
      "Cell \u001b[1;32mIn[41], line 1\u001b[0m\n\u001b[1;32m----> 1\u001b[0m data_new \u001b[38;5;241m=\u001b[39m data[column \u001b[38;5;241m<\u001b[39m \u001b[38;5;241m90\u001b[39m]\n",
      "\u001b[1;31mNameError\u001b[0m: name 'column' is not defined"
     ]
    }
   ],
   "source": [
    "data_new = data[column < 90]"
   ]
  },
  {
   "cell_type": "code",
   "execution_count": 42,
   "id": "801fbbf1",
   "metadata": {},
   "outputs": [
    {
     "data": {
      "text/plain": [
       "{'whiskers': [<matplotlib.lines.Line2D at 0x1dc6ddf6e10>,\n",
       "  <matplotlib.lines.Line2D at 0x1dc6ddf7b50>],\n",
       " 'caps': [<matplotlib.lines.Line2D at 0x1dc6ddf8110>,\n",
       "  <matplotlib.lines.Line2D at 0x1dc6ddf8b90>],\n",
       " 'boxes': [<matplotlib.lines.Line2D at 0x1dc6ddf6450>],\n",
       " 'medians': [<matplotlib.lines.Line2D at 0x1dc6ddf9510>],\n",
       " 'fliers': [<matplotlib.lines.Line2D at 0x1dc6ddfa150>],\n",
       " 'means': []}"
      ]
     },
     "execution_count": 42,
     "metadata": {},
     "output_type": "execute_result"
    },
    {
     "data": {
      "image/png": "[encoded data removed]",
      "text/plain": [
       "<Figure size 640x480 with 1 Axes>"
      ]
     },
     "metadata": {},
     "output_type": "display_data"
    }
   ],
   "source": [
    "column = data[\"Newspaper\"]\n",
    "plt.boxplot(column)"
   ]
  },
  {
   "cell_type": "code",
   "execution_count": 43,
   "id": "b6f07fcb",
   "metadata": {},
   "outputs": [],
   "source": [
    "data_new = data[column < 90]"
   ]
  },
  {
   "cell_type": "code",
   "execution_count": 45,
   "id": "4c012293",
   "metadata": {},
   "outputs": [
    {
     "data": {
      "text/plain": [
       "{'whiskers': [<matplotlib.lines.Line2D at 0x1dc6def4c50>,\n",
       "  <matplotlib.lines.Line2D at 0x1dc6def5910>,\n",
       "  <matplotlib.lines.Line2D at 0x1dc6defdb10>,\n",
       "  <matplotlib.lines.Line2D at 0x1dc6defe510>,\n",
       "  <matplotlib.lines.Line2D at 0x1dc6df0a750>,\n",
       "  <matplotlib.lines.Line2D at 0x1dc6df0b290>,\n",
       "  <matplotlib.lines.Line2D at 0x1dc6df1a990>,\n",
       "  <matplotlib.lines.Line2D at 0x1dc6df18f50>],\n",
       " 'caps': [<matplotlib.lines.Line2D at 0x1dc6def6410>,\n",
       "  <matplotlib.lines.Line2D at 0x1dc6def6f10>,\n",
       "  <matplotlib.lines.Line2D at 0x1dc6deff090>,\n",
       "  <matplotlib.lines.Line2D at 0x1dc6deffa50>,\n",
       "  <matplotlib.lines.Line2D at 0x1dc6df0bdd0>,\n",
       "  <matplotlib.lines.Line2D at 0x1dc6df18910>,\n",
       "  <matplotlib.lines.Line2D at 0x1dc6df28a10>,\n",
       "  <matplotlib.lines.Line2D at 0x1dc6df294d0>],\n",
       " 'boxes': [<matplotlib.lines.Line2D at 0x1dc6def41d0>,\n",
       "  <matplotlib.lines.Line2D at 0x1dc6defd0d0>,\n",
       "  <matplotlib.lines.Line2D at 0x1dc6df09c90>,\n",
       "  <matplotlib.lines.Line2D at 0x1dc6df1ab10>],\n",
       " 'medians': [<matplotlib.lines.Line2D at 0x1dc6def7a50>,\n",
       "  <matplotlib.lines.Line2D at 0x1dc6df08610>,\n",
       "  <matplotlib.lines.Line2D at 0x1dc6df19450>,\n",
       "  <matplotlib.lines.Line2D at 0x1dc6df29f90>],\n",
       " 'fliers': [<matplotlib.lines.Line2D at 0x1dc6defc510>,\n",
       "  <matplotlib.lines.Line2D at 0x1dc6df09050>,\n",
       "  <matplotlib.lines.Line2D at 0x1dc6df19f50>,\n",
       "  <matplotlib.lines.Line2D at 0x1dc6df2a290>],\n",
       " 'means': []}"
      ]
     },
     "execution_count": 45,
     "metadata": {},
     "output_type": "execute_result"
    },
    {
     "data": {
      "image/png": "[encoded data removed]",
      "text/plain": [
       "<Figure size 640x480 with 1 Axes>"
      ]
     },
     "metadata": {},
     "output_type": "display_data"
    }
   ],
   "source": [
    "\n",
    "plt.boxplot(data_new)\n"
   ]
  },
  {
   "cell_type": "code",
   "execution_count": 47,
   "id": "b784095f",
   "metadata": {},
   "outputs": [
    {
     "data": {
      "text/plain": [
       "TV           0\n",
       "Radio        0\n",
       "Newspaper    0\n",
       "Sales        0\n",
       "dtype: int64"
      ]
     },
     "execution_count": 47,
     "metadata": {},
     "output_type": "execute_result"
    }
   ],
   "source": [
    "# Null valuse present in more than 20 % then drop valuse and \n",
    "#if it is less than 20 % then fill the value with mean,median and mode.\n",
    "\n",
    "data.isnull().sum()\n",
    "\n",
    "# data[column_name].fillna(data[\"column\"].mean(),inplace=True)"
   ]
  },
  {
   "cell_type": "code",
   "execution_count": 49,
   "id": "aa46fc80",
   "metadata": {},
   "outputs": [],
   "source": [
    "# Linear regression\n",
    "x = data_new[['TV','Radio','Newspaper']]    # two brackedt use due to multiple varaible has provided\n",
    "y = data_new[['Sales']]"
   ]
  },
  {
   "cell_type": "code",
   "execution_count": 53,
   "id": "785f6b6c",
   "metadata": {},
   "outputs": [
    {
     "data": {
      "text/plain": [
       "(198, 4)"
      ]
     },
     "execution_count": 53,
     "metadata": {},
     "output_type": "execute_result"
    }
   ],
   "source": [
    "data_new.shape"
   ]
  },
  {
   "cell_type": "code",
   "execution_count": 51,
   "id": "dc9e652f",
   "metadata": {},
   "outputs": [
    {
     "data": {
      "text/plain": [
       "(198, 3)"
      ]
     },
     "execution_count": 51,
     "metadata": {},
     "output_type": "execute_result"
    }
   ],
   "source": [
    "x.shape"
   ]
  },
  {
   "cell_type": "code",
   "execution_count": 52,
   "id": "e2c002e6",
   "metadata": {},
   "outputs": [
    {
     "data": {
      "text/plain": [
       "(198, 1)"
      ]
     },
     "execution_count": 52,
     "metadata": {},
     "output_type": "execute_result"
    }
   ],
   "source": [
    "y.shape"
   ]
  },
  {
   "cell_type": "code",
   "execution_count": 54,
   "id": "8c3ab430",
   "metadata": {},
   "outputs": [],
   "source": [
    "from sklearn.model_selection import train_test_split\n",
    "x_train,x_test,y_train,y_test=train_test_split(x,y,test_size=0.2)   # test data size is 20 %\n"
   ]
  },
  {
   "cell_type": "code",
   "execution_count": 55,
   "id": "3133ca21",
   "metadata": {},
   "outputs": [
    {
     "name": "stdout",
     "output_type": "stream",
     "text": [
      "(158, 3)\n",
      "(40, 3)\n",
      "(158, 1)\n",
      "(40, 1)\n"
     ]
    }
   ],
   "source": [
    "print(x_train.shape)\n",
    "print(x_test.shape)\n",
    "print(y_train.shape)\n",
    "print(y_test.shape)"
   ]
  },
  {
   "cell_type": "code",
   "execution_count": 57,
   "id": "da88b185",
   "metadata": {},
   "outputs": [],
   "source": [
    "from sklearn.linear_model import LinearRegression\n",
    "lm = LinearRegression()"
   ]
  },
  {
   "cell_type": "code",
   "execution_count": 58,
   "id": "7ef7adb9",
   "metadata": {},
   "outputs": [
    {
     "data": {
      "text/html": [
       "<style>#sk-container-id-1 {color: black;}#sk-container-id-1 pre{padding: 0;}#sk-container-id-1 div.sk-toggleable {background-color: white;}#sk-container-id-1 label.sk-toggleable__label {cursor: pointer;display: block;width: 100%;margin-bottom: 0;padding: 0.3em;box-sizing: border-box;text-align: center;}#sk-container-id-1 label.sk-toggleable__label-arrow:before {content: \"▸\";float: left;margin-right: 0.25em;color: #696969;}#sk-container-id-1 label.sk-toggleable__label-arrow:hover:before {color: black;}#sk-container-id-1 div.sk-estimator:hover label.sk-toggleable__label-arrow:before {color: black;}#sk-container-id-1 div.sk-toggleable__content {max-height: 0;max-width: 0;overflow: hidden;text-align: left;background-color: #f0f8ff;}#sk-container-id-1 div.sk-toggleable__content pre {margin: 0.2em;color: black;border-radius: 0.25em;background-color: #f0f8ff;}#sk-container-id-1 input.sk-toggleable__control:checked~div.sk-toggleable__content {max-height: 200px;max-width: 100%;overflow: auto;}#sk-container-id-1 input.sk-toggleable__control:checked~label.sk-toggleable__label-arrow:before {content: \"▾\";}#sk-container-id-1 div.sk-estimator input.sk-toggleable__control:checked~label.sk-toggleable__label {background-color: #d4ebff;}#sk-container-id-1 div.sk-label input.sk-toggleable__control:checked~label.sk-toggleable__label {background-color: #d4ebff;}#sk-container-id-1 input.sk-hidden--visually {border: 0;clip: rect(1px 1px 1px 1px);clip: rect(1px, 1px, 1px, 1px);height: 1px;margin: -1px;overflow: hidden;padding: 0;position: absolute;width: 1px;}#sk-container-id-1 div.sk-estimator {font-family: monospace;background-color: #f0f8ff;border: 1px dotted black;border-radius: 0.25em;box-sizing: border-box;margin-bottom: 0.5em;}#sk-container-id-1 div.sk-estimator:hover {background-color: #d4ebff;}#sk-container-id-1 div.sk-parallel-item::after {content: \"\";width: 100%;border-bottom: 1px solid gray;flex-grow: 1;}#sk-container-id-1 div.sk-label:hover label.sk-toggleable__label {background-color: #d4ebff;}#sk-container-id-1 div.sk-serial::before {content: \"\";position: absolute;border-left: 1px solid gray;box-sizing: border-box;top: 0;bottom: 0;left: 50%;z-index: 0;}#sk-container-id-1 div.sk-serial {display: flex;flex-direction: column;align-items: center;background-color: white;padding-right: 0.2em;padding-left: 0.2em;position: relative;}#sk-container-id-1 div.sk-item {position: relative;z-index: 1;}#sk-container-id-1 div.sk-parallel {display: flex;align-items: stretch;justify-content: center;background-color: white;position: relative;}#sk-container-id-1 div.sk-item::before, #sk-container-id-1 div.sk-parallel-item::before {content: \"\";position: absolute;border-left: 1px solid gray;box-sizing: border-box;top: 0;bottom: 0;left: 50%;z-index: -1;}#sk-container-id-1 div.sk-parallel-item {display: flex;flex-direction: column;z-index: 1;position: relative;background-color: white;}#sk-container-id-1 div.sk-parallel-item:first-child::after {align-self: flex-end;width: 50%;}#sk-container-id-1 div.sk-parallel-item:last-child::after {align-self: flex-start;width: 50%;}#sk-container-id-1 div.sk-parallel-item:only-child::after {width: 0;}#sk-container-id-1 div.sk-dashed-wrapped {border: 1px dashed gray;margin: 0 0.4em 0.5em 0.4em;box-sizing: border-box;padding-bottom: 0.4em;background-color: white;}#sk-container-id-1 div.sk-label label {font-family: monospace;font-weight: bold;display: inline-block;line-height: 1.2em;}#sk-container-id-1 div.sk-label-container {text-align: center;}#sk-container-id-1 div.sk-container {/* jupyter's `normalize.less` sets `[hidden] { display: none; }` but bootstrap.min.css set `[hidden] { display: none !important; }` so we also need the `!important` here to be able to override the default hidden behavior on the sphinx rendered scikit-learn.org. See: https://github.com/scikit-learn/scikit-learn/issues/21755 */display: inline-block !important;position: relative;}#sk-container-id-1 div.sk-text-repr-fallback {display: none;}</style><div id=\"sk-container-id-1\" class=\"sk-top-container\"><div class=\"sk-text-repr-fallback\"><pre>LinearRegression()</pre><b>In a Jupyter environment, please rerun this cell to show the HTML representation or trust the notebook. <br />On GitHub, the HTML representation is unable to render, please try loading this page with nbviewer.org.</b></div><div class=\"sk-container\" hidden><div class=\"sk-item\"><div class=\"sk-estimator sk-toggleable\"><input class=\"sk-toggleable__control sk-hidden--visually\" id=\"sk-estimator-id-1\" type=\"checkbox\" checked><label for=\"sk-estimator-id-1\" class=\"sk-toggleable__label sk-toggleable__label-arrow\">LinearRegression</label><div class=\"sk-toggleable__content\"><pre>LinearRegression()</pre></div></div></div></div></div>"
      ],
      "text/plain": [
       "LinearRegression()"
      ]
     },
     "execution_count": 58,
     "metadata": {},
     "output_type": "execute_result"
    }
   ],
   "source": [
    "lm.fit(x_train,y_train)"
   ]
  },
  {
   "cell_type": "code",
   "execution_count": 59,
   "id": "9c2120e7",
   "metadata": {},
   "outputs": [],
   "source": [
    "# y = b0 + b1x1 + b2x2 + b3x3\n"
   ]
  },
  {
   "cell_type": "code",
   "execution_count": 60,
   "id": "9d52f4c8",
   "metadata": {},
   "outputs": [
    {
     "name": "stdout",
     "output_type": "stream",
     "text": [
      "[[0.05366347 0.10238806 0.00195067]]\n"
     ]
    }
   ],
   "source": [
    "print(lm.coef_)"
   ]
  },
  {
   "cell_type": "code",
   "execution_count": 61,
   "id": "e8ef9be1",
   "metadata": {},
   "outputs": [
    {
     "name": "stdout",
     "output_type": "stream",
     "text": [
      "[4.70213794]\n"
     ]
    }
   ],
   "source": [
    "print(lm.intercept_)"
   ]
  },
  {
   "cell_type": "code",
   "execution_count": 62,
   "id": "977de008",
   "metadata": {},
   "outputs": [],
   "source": [
    "x1 =250\n",
    "x2= 14\n",
    "x3 = 67\n",
    "\n",
    "y = 2.85645114 + (0.04713151*x1)+(0.17860138*x2)+(0.00258433*x3)"
   ]
  },
  {
   "cell_type": "code",
   "execution_count": 63,
   "id": "36b01d6e",
   "metadata": {},
   "outputs": [
    {
     "data": {
      "text/plain": [
       "17.31289807"
      ]
     },
     "execution_count": 63,
     "metadata": {},
     "output_type": "execute_result"
    }
   ],
   "source": [
    "y"
   ]
  },
  {
   "cell_type": "code",
   "execution_count": 64,
   "id": "10f0b90f",
   "metadata": {},
   "outputs": [],
   "source": [
    "y_pred = lm.predict(x_test)"
   ]
  },
  {
   "cell_type": "code",
   "execution_count": 65,
   "id": "ffc37b15",
   "metadata": {},
   "outputs": [
    {
     "data": {
      "text/plain": [
       "array([[20.88427161],\n",
       "       [16.71549604],\n",
       "       [16.71666646],\n",
       "       [ 8.07166012],\n",
       "       [12.41864693],\n",
       "       [ 6.45486735],\n",
       "       [11.57928804],\n",
       "       [10.64029373],\n",
       "       [18.73497304],\n",
       "       [17.25843032],\n",
       "       [17.0105659 ],\n",
       "       [21.86119546],\n",
       "       [17.71938019],\n",
       "       [15.71226665],\n",
       "       [16.3700036 ],\n",
       "       [ 9.81726325],\n",
       "       [ 8.76492833],\n",
       "       [13.26044822],\n",
       "       [ 8.05174372],\n",
       "       [15.67590592],\n",
       "       [24.35053002],\n",
       "       [15.16526465],\n",
       "       [21.16638485],\n",
       "       [12.99843182],\n",
       "       [21.48030067],\n",
       "       [21.60859963],\n",
       "       [16.31655667],\n",
       "       [ 6.99018608],\n",
       "       [ 9.35888167],\n",
       "       [11.07989772],\n",
       "       [ 8.60890515],\n",
       "       [21.05535676],\n",
       "       [11.45578786],\n",
       "       [17.1748944 ],\n",
       "       [20.73847915],\n",
       "       [20.35908329],\n",
       "       [16.58149487],\n",
       "       [20.00814634],\n",
       "       [11.19195655],\n",
       "       [20.66174083]])"
      ]
     },
     "execution_count": 65,
     "metadata": {},
     "output_type": "execute_result"
    }
   ],
   "source": [
    "y_pred"
   ]
  },
  {
   "cell_type": "code",
   "execution_count": 66,
   "id": "d235e035",
   "metadata": {},
   "outputs": [
    {
     "data": {
      "text/html": [
       "<div>\n",
       "<style scoped>\n",
       "    .dataframe tbody tr th:only-of-type {\n",
       "        vertical-align: middle;\n",
       "    }\n",
       "\n",
       "    .dataframe tbody tr th {\n",
       "        vertical-align: top;\n",
       "    }\n",
       "\n",
       "    .dataframe thead th {\n",
       "        text-align: right;\n",
       "    }\n",
       "</style>\n",
       "<table border=\"1\" class=\"dataframe\">\n",
       "  <thead>\n",
       "    <tr style=\"text-align: right;\">\n",
       "      <th></th>\n",
       "      <th>TV</th>\n",
       "      <th>Radio</th>\n",
       "      <th>Newspaper</th>\n",
       "      <th>actual sales</th>\n",
       "      <th>predicted sales</th>\n",
       "    </tr>\n",
       "  </thead>\n",
       "  <tbody>\n",
       "    <tr>\n",
       "      <th>69</th>\n",
       "      <td>216.8</td>\n",
       "      <td>43.9</td>\n",
       "      <td>27.2</td>\n",
       "      <td>22.3</td>\n",
       "      <td>20.884272</td>\n",
       "    </tr>\n",
       "    <tr>\n",
       "      <th>162</th>\n",
       "      <td>188.4</td>\n",
       "      <td>18.1</td>\n",
       "      <td>25.6</td>\n",
       "      <td>19.9</td>\n",
       "      <td>16.715496</td>\n",
       "    </tr>\n",
       "    <tr>\n",
       "      <th>43</th>\n",
       "      <td>206.9</td>\n",
       "      <td>8.4</td>\n",
       "      <td>26.4</td>\n",
       "      <td>17.9</td>\n",
       "      <td>16.716666</td>\n",
       "    </tr>\n",
       "    <tr>\n",
       "      <th>78</th>\n",
       "      <td>5.4</td>\n",
       "      <td>29.9</td>\n",
       "      <td>9.4</td>\n",
       "      <td>5.3</td>\n",
       "      <td>8.071660</td>\n",
       "    </tr>\n",
       "    <tr>\n",
       "      <th>115</th>\n",
       "      <td>75.1</td>\n",
       "      <td>35.0</td>\n",
       "      <td>52.7</td>\n",
       "      <td>12.6</td>\n",
       "      <td>12.418647</td>\n",
       "    </tr>\n",
       "    <tr>\n",
       "      <th>91</th>\n",
       "      <td>28.6</td>\n",
       "      <td>1.5</td>\n",
       "      <td>33.0</td>\n",
       "      <td>7.3</td>\n",
       "      <td>6.454867</td>\n",
       "    </tr>\n",
       "    <tr>\n",
       "      <th>80</th>\n",
       "      <td>76.4</td>\n",
       "      <td>26.7</td>\n",
       "      <td>22.3</td>\n",
       "      <td>11.8</td>\n",
       "      <td>11.579288</td>\n",
       "    </tr>\n",
       "    <tr>\n",
       "      <th>125</th>\n",
       "      <td>87.2</td>\n",
       "      <td>11.8</td>\n",
       "      <td>25.9</td>\n",
       "      <td>10.6</td>\n",
       "      <td>10.640294</td>\n",
       "    </tr>\n",
       "    <tr>\n",
       "      <th>23</th>\n",
       "      <td>228.3</td>\n",
       "      <td>16.9</td>\n",
       "      <td>26.2</td>\n",
       "      <td>20.5</td>\n",
       "      <td>18.734973</td>\n",
       "    </tr>\n",
       "    <tr>\n",
       "      <th>163</th>\n",
       "      <td>163.5</td>\n",
       "      <td>36.8</td>\n",
       "      <td>7.4</td>\n",
       "      <td>18.0</td>\n",
       "      <td>17.258430</td>\n",
       "    </tr>\n",
       "    <tr>\n",
       "      <th>174</th>\n",
       "      <td>222.4</td>\n",
       "      <td>3.4</td>\n",
       "      <td>13.1</td>\n",
       "      <td>16.5</td>\n",
       "      <td>17.010566</td>\n",
       "    </tr>\n",
       "    <tr>\n",
       "      <th>47</th>\n",
       "      <td>239.9</td>\n",
       "      <td>41.5</td>\n",
       "      <td>18.5</td>\n",
       "      <td>23.2</td>\n",
       "      <td>21.861195</td>\n",
       "    </tr>\n",
       "    <tr>\n",
       "      <th>152</th>\n",
       "      <td>197.6</td>\n",
       "      <td>23.3</td>\n",
       "      <td>14.2</td>\n",
       "      <td>16.6</td>\n",
       "      <td>17.719380</td>\n",
       "    </tr>\n",
       "    <tr>\n",
       "      <th>112</th>\n",
       "      <td>175.7</td>\n",
       "      <td>15.4</td>\n",
       "      <td>2.4</td>\n",
       "      <td>17.1</td>\n",
       "      <td>15.712267</td>\n",
       "    </tr>\n",
       "    <tr>\n",
       "      <th>167</th>\n",
       "      <td>206.8</td>\n",
       "      <td>5.2</td>\n",
       "      <td>19.4</td>\n",
       "      <td>17.2</td>\n",
       "      <td>16.370004</td>\n",
       "    </tr>\n",
       "    <tr>\n",
       "      <th>38</th>\n",
       "      <td>43.1</td>\n",
       "      <td>26.7</td>\n",
       "      <td>35.1</td>\n",
       "      <td>10.1</td>\n",
       "      <td>9.817263</td>\n",
       "    </tr>\n",
       "    <tr>\n",
       "      <th>44</th>\n",
       "      <td>25.1</td>\n",
       "      <td>25.7</td>\n",
       "      <td>43.3</td>\n",
       "      <td>8.5</td>\n",
       "      <td>8.764928</td>\n",
       "    </tr>\n",
       "    <tr>\n",
       "      <th>63</th>\n",
       "      <td>102.7</td>\n",
       "      <td>29.6</td>\n",
       "      <td>8.4</td>\n",
       "      <td>14.0</td>\n",
       "      <td>13.260448</td>\n",
       "    </tr>\n",
       "    <tr>\n",
       "      <th>56</th>\n",
       "      <td>7.3</td>\n",
       "      <td>28.1</td>\n",
       "      <td>41.4</td>\n",
       "      <td>5.5</td>\n",
       "      <td>8.051744</td>\n",
       "    </tr>\n",
       "    <tr>\n",
       "      <th>96</th>\n",
       "      <td>197.6</td>\n",
       "      <td>3.5</td>\n",
       "      <td>5.9</td>\n",
       "      <td>16.7</td>\n",
       "      <td>15.675906</td>\n",
       "    </tr>\n",
       "    <tr>\n",
       "      <th>198</th>\n",
       "      <td>283.6</td>\n",
       "      <td>42.0</td>\n",
       "      <td>66.2</td>\n",
       "      <td>25.5</td>\n",
       "      <td>24.350530</td>\n",
       "    </tr>\n",
       "    <tr>\n",
       "      <th>197</th>\n",
       "      <td>177.0</td>\n",
       "      <td>9.3</td>\n",
       "      <td>6.4</td>\n",
       "      <td>14.8</td>\n",
       "      <td>15.165265</td>\n",
       "    </tr>\n",
       "    <tr>\n",
       "      <th>58</th>\n",
       "      <td>210.8</td>\n",
       "      <td>49.6</td>\n",
       "      <td>37.7</td>\n",
       "      <td>23.8</td>\n",
       "      <td>21.166385</td>\n",
       "    </tr>\n",
       "    <tr>\n",
       "      <th>83</th>\n",
       "      <td>68.4</td>\n",
       "      <td>44.5</td>\n",
       "      <td>35.6</td>\n",
       "      <td>13.6</td>\n",
       "      <td>12.998432</td>\n",
       "    </tr>\n",
       "    <tr>\n",
       "      <th>188</th>\n",
       "      <td>286.0</td>\n",
       "      <td>13.9</td>\n",
       "      <td>3.7</td>\n",
       "      <td>20.9</td>\n",
       "      <td>21.480301</td>\n",
       "    </tr>\n",
       "    <tr>\n",
       "      <th>111</th>\n",
       "      <td>241.7</td>\n",
       "      <td>38.0</td>\n",
       "      <td>23.2</td>\n",
       "      <td>21.8</td>\n",
       "      <td>21.608600</td>\n",
       "    </tr>\n",
       "    <tr>\n",
       "      <th>99</th>\n",
       "      <td>135.2</td>\n",
       "      <td>41.7</td>\n",
       "      <td>45.9</td>\n",
       "      <td>17.2</td>\n",
       "      <td>16.316557</td>\n",
       "    </tr>\n",
       "    <tr>\n",
       "      <th>189</th>\n",
       "      <td>18.7</td>\n",
       "      <td>12.1</td>\n",
       "      <td>23.4</td>\n",
       "      <td>6.7</td>\n",
       "      <td>6.990186</td>\n",
       "    </tr>\n",
       "    <tr>\n",
       "      <th>65</th>\n",
       "      <td>69.0</td>\n",
       "      <td>9.3</td>\n",
       "      <td>0.9</td>\n",
       "      <td>11.3</td>\n",
       "      <td>9.358882</td>\n",
       "    </tr>\n",
       "    <tr>\n",
       "      <th>51</th>\n",
       "      <td>100.4</td>\n",
       "      <td>9.6</td>\n",
       "      <td>3.6</td>\n",
       "      <td>10.7</td>\n",
       "      <td>11.079898</td>\n",
       "    </tr>\n",
       "    <tr>\n",
       "      <th>170</th>\n",
       "      <td>50.0</td>\n",
       "      <td>11.6</td>\n",
       "      <td>18.4</td>\n",
       "      <td>8.4</td>\n",
       "      <td>8.608905</td>\n",
       "    </tr>\n",
       "    <tr>\n",
       "      <th>0</th>\n",
       "      <td>230.1</td>\n",
       "      <td>37.8</td>\n",
       "      <td>69.2</td>\n",
       "      <td>22.1</td>\n",
       "      <td>21.055357</td>\n",
       "    </tr>\n",
       "    <tr>\n",
       "      <th>144</th>\n",
       "      <td>96.2</td>\n",
       "      <td>14.8</td>\n",
       "      <td>38.9</td>\n",
       "      <td>12.3</td>\n",
       "      <td>11.455788</td>\n",
       "    </tr>\n",
       "    <tr>\n",
       "      <th>3</th>\n",
       "      <td>151.5</td>\n",
       "      <td>41.3</td>\n",
       "      <td>58.5</td>\n",
       "      <td>16.5</td>\n",
       "      <td>17.174894</td>\n",
       "    </tr>\n",
       "    <tr>\n",
       "      <th>35</th>\n",
       "      <td>290.7</td>\n",
       "      <td>4.1</td>\n",
       "      <td>8.5</td>\n",
       "      <td>17.8</td>\n",
       "      <td>20.738479</td>\n",
       "    </tr>\n",
       "    <tr>\n",
       "      <th>185</th>\n",
       "      <td>205.0</td>\n",
       "      <td>45.1</td>\n",
       "      <td>19.6</td>\n",
       "      <td>22.6</td>\n",
       "      <td>20.359083</td>\n",
       "    </tr>\n",
       "    <tr>\n",
       "      <th>103</th>\n",
       "      <td>187.9</td>\n",
       "      <td>17.2</td>\n",
       "      <td>17.9</td>\n",
       "      <td>19.7</td>\n",
       "      <td>16.581495</td>\n",
       "    </tr>\n",
       "    <tr>\n",
       "      <th>142</th>\n",
       "      <td>220.5</td>\n",
       "      <td>33.2</td>\n",
       "      <td>37.9</td>\n",
       "      <td>20.1</td>\n",
       "      <td>20.008146</td>\n",
       "    </tr>\n",
       "    <tr>\n",
       "      <th>6</th>\n",
       "      <td>57.5</td>\n",
       "      <td>32.8</td>\n",
       "      <td>23.5</td>\n",
       "      <td>11.8</td>\n",
       "      <td>11.191957</td>\n",
       "    </tr>\n",
       "    <tr>\n",
       "      <th>52</th>\n",
       "      <td>216.4</td>\n",
       "      <td>41.7</td>\n",
       "      <td>39.6</td>\n",
       "      <td>22.6</td>\n",
       "      <td>20.661741</td>\n",
       "    </tr>\n",
       "  </tbody>\n",
       "</table>\n",
       "</div>"
      ],
      "text/plain": [
       "        TV  Radio  Newspaper  actual sales  predicted sales\n",
       "69   216.8   43.9       27.2          22.3        20.884272\n",
       "162  188.4   18.1       25.6          19.9        16.715496\n",
       "43   206.9    8.4       26.4          17.9        16.716666\n",
       "78     5.4   29.9        9.4           5.3         8.071660\n",
       "115   75.1   35.0       52.7          12.6        12.418647\n",
       "91    28.6    1.5       33.0           7.3         6.454867\n",
       "80    76.4   26.7       22.3          11.8        11.579288\n",
       "125   87.2   11.8       25.9          10.6        10.640294\n",
       "23   228.3   16.9       26.2          20.5        18.734973\n",
       "163  163.5   36.8        7.4          18.0        17.258430\n",
       "174  222.4    3.4       13.1          16.5        17.010566\n",
       "47   239.9   41.5       18.5          23.2        21.861195\n",
       "152  197.6   23.3       14.2          16.6        17.719380\n",
       "112  175.7   15.4        2.4          17.1        15.712267\n",
       "167  206.8    5.2       19.4          17.2        16.370004\n",
       "38    43.1   26.7       35.1          10.1         9.817263\n",
       "44    25.1   25.7       43.3           8.5         8.764928\n",
       "63   102.7   29.6        8.4          14.0        13.260448\n",
       "56     7.3   28.1       41.4           5.5         8.051744\n",
       "96   197.6    3.5        5.9          16.7        15.675906\n",
       "198  283.6   42.0       66.2          25.5        24.350530\n",
       "197  177.0    9.3        6.4          14.8        15.165265\n",
       "58   210.8   49.6       37.7          23.8        21.166385\n",
       "83    68.4   44.5       35.6          13.6        12.998432\n",
       "188  286.0   13.9        3.7          20.9        21.480301\n",
       "111  241.7   38.0       23.2          21.8        21.608600\n",
       "99   135.2   41.7       45.9          17.2        16.316557\n",
       "189   18.7   12.1       23.4           6.7         6.990186\n",
       "65    69.0    9.3        0.9          11.3         9.358882\n",
       "51   100.4    9.6        3.6          10.7        11.079898\n",
       "170   50.0   11.6       18.4           8.4         8.608905\n",
       "0    230.1   37.8       69.2          22.1        21.055357\n",
       "144   96.2   14.8       38.9          12.3        11.455788\n",
       "3    151.5   41.3       58.5          16.5        17.174894\n",
       "35   290.7    4.1        8.5          17.8        20.738479\n",
       "185  205.0   45.1       19.6          22.6        20.359083\n",
       "103  187.9   17.2       17.9          19.7        16.581495\n",
       "142  220.5   33.2       37.9          20.1        20.008146\n",
       "6     57.5   32.8       23.5          11.8        11.191957\n",
       "52   216.4   41.7       39.6          22.6        20.661741"
      ]
     },
     "execution_count": 66,
     "metadata": {},
     "output_type": "execute_result"
    }
   ],
   "source": [
    "new_df = pd.DataFrame()\n",
    "new_df = x_test\n",
    "new_df['actual sales']= y_test\n",
    "new_df['predicted sales']= y_pred\n",
    "new_df\n"
   ]
  },
  {
   "cell_type": "code",
   "execution_count": 67,
   "id": "f3776172",
   "metadata": {},
   "outputs": [
    {
     "data": {
      "text/plain": [
       "89.1795950015365"
      ]
     },
     "execution_count": 67,
     "metadata": {},
     "output_type": "execute_result"
    }
   ],
   "source": [
    "lm.score(x_train,y_train)*100"
   ]
  },
  {
   "cell_type": "code",
   "execution_count": 68,
   "id": "c1bef9f8",
   "metadata": {},
   "outputs": [
    {
     "name": "stdout",
     "output_type": "stream",
     "text": [
      "R-squared: 0.9298722165528027\n",
      "RMSE: 1.4456040708438014\n"
     ]
    }
   ],
   "source": [
    "from sklearn.metrics import r2_score,mean_squared_error\n",
    "import numpy as np\n",
    "\n",
    "r2=r2_score(y_test,y_pred)\n",
    "print(\"R-squared:\",r2)\n",
    "\n",
    "rmse=np.sqrt(mean_squared_error(y_test,y_pred))\n",
    "print(\"RMSE:\",rmse)"
   ]
  },
  {
   "cell_type": "code",
   "execution_count": 69,
   "id": "374467f4",
   "metadata": {},
   "outputs": [],
   "source": [
    "import joblib"
   ]
  },
  {
   "cell_type": "code",
   "execution_count": 71,
   "id": "fdd942fe",
   "metadata": {},
   "outputs": [
    {
     "data": {
      "text/plain": [
       "['model.pkl']"
      ]
     },
     "execution_count": 71,
     "metadata": {},
     "output_type": "execute_result"
    }
   ],
   "source": [
    "joblib.dump(lm,\"model.pkl\")"
   ]
  },
  {
   "cell_type": "code",
   "execution_count": null,
   "id": "840324c2",
   "metadata": {},
   "outputs": [],
   "source": []
  }
 ],
 "metadata": {
  "kernelspec": {
   "display_name": "Python 3 (ipykernel)",
   "language": "python",
   "name": "python3"
  },
  "language_info": {
   "codemirror_mode": {
    "name": "ipython",
    "version": 3
   },
   "file_extension": ".py",
   "mimetype": "text/x-python",
   "name": "python",
   "nbconvert_exporter": "python",
   "pygments_lexer": "ipython3",
   "version": "3.11.5"
  }
 },
 "nbformat": 4,
 "nbformat_minor": 5
}
